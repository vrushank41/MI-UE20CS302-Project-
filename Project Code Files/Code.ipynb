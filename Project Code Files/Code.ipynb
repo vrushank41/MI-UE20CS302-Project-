{
  "nbformat": 4,
  "nbformat_minor": 0,
  "metadata": {
    "colab": {
      "provenance": []
    },
    "kernelspec": {
      "name": "python3",
      "display_name": "Python 3"
    },
    "language_info": {
      "name": "python"
    },
    "accelerator": "GPU",
    "gpuClass": "standard"
  },
  "cells": [
    {
      "cell_type": "code",
      "execution_count": null,
      "metadata": {
        "id": "6rYxA8_OdUsP"
      },
      "outputs": [],
      "source": [
        "# Step 1: Import libraries\n",
        "\n",
        "import tensorflow as tf\n",
        "from tensorflow.keras.preprocessing.text import Tokenizer\n",
        "from tensorflow.keras.layers import Embedding, LSTM, Dense\n",
        "from tensorflow.keras.models import Sequential\n",
        "from tensorflow.keras.utils import to_categorical\n",
        "from tensorflow.keras.optimizers import Adam\n",
        "import pickle\n",
        "import numpy as np\n",
        "import os"
      ]
    },
    {
      "cell_type": "markdown",
      "source": [
        "LSTM comes under Recurrent Neural Network (RNN) architecture used in the field of deep learning. A common LSTM unit is composed of a cell, an input gate, an output gate and a forget gate."
      ],
      "metadata": {
        "id": "58s22w31xCAw"
      }
    },
    {
      "cell_type": "markdown",
      "source": [
        "Step 2: Load your file\n"
      ],
      "metadata": {
        "id": "xf-kMTlExCRX"
      }
    },
    {
      "cell_type": "code",
      "source": [
        "from google.colab import files\n",
        "uploaded = files.upload()"
      ],
      "metadata": {
        "colab": {
          "base_uri": "https://localhost:8080/",
          "height": 74
        },
        "id": "Jyg1YyGriPT2",
        "outputId": "724b567a-9703-4cb3-d821-217c286d5f1a"
      },
      "execution_count": null,
      "outputs": [
        {
          "output_type": "display_data",
          "data": {
            "text/plain": [
              "<IPython.core.display.HTML object>"
            ],
            "text/html": [
              "\n",
              "     <input type=\"file\" id=\"files-16403de3-f41d-4c74-9d82-2485d0f6e31b\" name=\"files[]\" multiple disabled\n",
              "        style=\"border:none\" />\n",
              "     <output id=\"result-16403de3-f41d-4c74-9d82-2485d0f6e31b\">\n",
              "      Upload widget is only available when the cell has been executed in the\n",
              "      current browser session. Please rerun this cell to enable.\n",
              "      </output>\n",
              "      <script>// Copyright 2017 Google LLC\n",
              "//\n",
              "// Licensed under the Apache License, Version 2.0 (the \"License\");\n",
              "// you may not use this file except in compliance with the License.\n",
              "// You may obtain a copy of the License at\n",
              "//\n",
              "//      http://www.apache.org/licenses/LICENSE-2.0\n",
              "//\n",
              "// Unless required by applicable law or agreed to in writing, software\n",
              "// distributed under the License is distributed on an \"AS IS\" BASIS,\n",
              "// WITHOUT WARRANTIES OR CONDITIONS OF ANY KIND, either express or implied.\n",
              "// See the License for the specific language governing permissions and\n",
              "// limitations under the License.\n",
              "\n",
              "/**\n",
              " * @fileoverview Helpers for google.colab Python module.\n",
              " */\n",
              "(function(scope) {\n",
              "function span(text, styleAttributes = {}) {\n",
              "  const element = document.createElement('span');\n",
              "  element.textContent = text;\n",
              "  for (const key of Object.keys(styleAttributes)) {\n",
              "    element.style[key] = styleAttributes[key];\n",
              "  }\n",
              "  return element;\n",
              "}\n",
              "\n",
              "// Max number of bytes which will be uploaded at a time.\n",
              "const MAX_PAYLOAD_SIZE = 100 * 1024;\n",
              "\n",
              "function _uploadFiles(inputId, outputId) {\n",
              "  const steps = uploadFilesStep(inputId, outputId);\n",
              "  const outputElement = document.getElementById(outputId);\n",
              "  // Cache steps on the outputElement to make it available for the next call\n",
              "  // to uploadFilesContinue from Python.\n",
              "  outputElement.steps = steps;\n",
              "\n",
              "  return _uploadFilesContinue(outputId);\n",
              "}\n",
              "\n",
              "// This is roughly an async generator (not supported in the browser yet),\n",
              "// where there are multiple asynchronous steps and the Python side is going\n",
              "// to poll for completion of each step.\n",
              "// This uses a Promise to block the python side on completion of each step,\n",
              "// then passes the result of the previous step as the input to the next step.\n",
              "function _uploadFilesContinue(outputId) {\n",
              "  const outputElement = document.getElementById(outputId);\n",
              "  const steps = outputElement.steps;\n",
              "\n",
              "  const next = steps.next(outputElement.lastPromiseValue);\n",
              "  return Promise.resolve(next.value.promise).then((value) => {\n",
              "    // Cache the last promise value to make it available to the next\n",
              "    // step of the generator.\n",
              "    outputElement.lastPromiseValue = value;\n",
              "    return next.value.response;\n",
              "  });\n",
              "}\n",
              "\n",
              "/**\n",
              " * Generator function which is called between each async step of the upload\n",
              " * process.\n",
              " * @param {string} inputId Element ID of the input file picker element.\n",
              " * @param {string} outputId Element ID of the output display.\n",
              " * @return {!Iterable<!Object>} Iterable of next steps.\n",
              " */\n",
              "function* uploadFilesStep(inputId, outputId) {\n",
              "  const inputElement = document.getElementById(inputId);\n",
              "  inputElement.disabled = false;\n",
              "\n",
              "  const outputElement = document.getElementById(outputId);\n",
              "  outputElement.innerHTML = '';\n",
              "\n",
              "  const pickedPromise = new Promise((resolve) => {\n",
              "    inputElement.addEventListener('change', (e) => {\n",
              "      resolve(e.target.files);\n",
              "    });\n",
              "  });\n",
              "\n",
              "  const cancel = document.createElement('button');\n",
              "  inputElement.parentElement.appendChild(cancel);\n",
              "  cancel.textContent = 'Cancel upload';\n",
              "  const cancelPromise = new Promise((resolve) => {\n",
              "    cancel.onclick = () => {\n",
              "      resolve(null);\n",
              "    };\n",
              "  });\n",
              "\n",
              "  // Wait for the user to pick the files.\n",
              "  const files = yield {\n",
              "    promise: Promise.race([pickedPromise, cancelPromise]),\n",
              "    response: {\n",
              "      action: 'starting',\n",
              "    }\n",
              "  };\n",
              "\n",
              "  cancel.remove();\n",
              "\n",
              "  // Disable the input element since further picks are not allowed.\n",
              "  inputElement.disabled = true;\n",
              "\n",
              "  if (!files) {\n",
              "    return {\n",
              "      response: {\n",
              "        action: 'complete',\n",
              "      }\n",
              "    };\n",
              "  }\n",
              "\n",
              "  for (const file of files) {\n",
              "    const li = document.createElement('li');\n",
              "    li.append(span(file.name, {fontWeight: 'bold'}));\n",
              "    li.append(span(\n",
              "        `(${file.type || 'n/a'}) - ${file.size} bytes, ` +\n",
              "        `last modified: ${\n",
              "            file.lastModifiedDate ? file.lastModifiedDate.toLocaleDateString() :\n",
              "                                    'n/a'} - `));\n",
              "    const percent = span('0% done');\n",
              "    li.appendChild(percent);\n",
              "\n",
              "    outputElement.appendChild(li);\n",
              "\n",
              "    const fileDataPromise = new Promise((resolve) => {\n",
              "      const reader = new FileReader();\n",
              "      reader.onload = (e) => {\n",
              "        resolve(e.target.result);\n",
              "      };\n",
              "      reader.readAsArrayBuffer(file);\n",
              "    });\n",
              "    // Wait for the data to be ready.\n",
              "    let fileData = yield {\n",
              "      promise: fileDataPromise,\n",
              "      response: {\n",
              "        action: 'continue',\n",
              "      }\n",
              "    };\n",
              "\n",
              "    // Use a chunked sending to avoid message size limits. See b/62115660.\n",
              "    let position = 0;\n",
              "    do {\n",
              "      const length = Math.min(fileData.byteLength - position, MAX_PAYLOAD_SIZE);\n",
              "      const chunk = new Uint8Array(fileData, position, length);\n",
              "      position += length;\n",
              "\n",
              "      const base64 = btoa(String.fromCharCode.apply(null, chunk));\n",
              "      yield {\n",
              "        response: {\n",
              "          action: 'append',\n",
              "          file: file.name,\n",
              "          data: base64,\n",
              "        },\n",
              "      };\n",
              "\n",
              "      let percentDone = fileData.byteLength === 0 ?\n",
              "          100 :\n",
              "          Math.round((position / fileData.byteLength) * 100);\n",
              "      percent.textContent = `${percentDone}% done`;\n",
              "\n",
              "    } while (position < fileData.byteLength);\n",
              "  }\n",
              "\n",
              "  // All done.\n",
              "  yield {\n",
              "    response: {\n",
              "      action: 'complete',\n",
              "    }\n",
              "  };\n",
              "}\n",
              "\n",
              "scope.google = scope.google || {};\n",
              "scope.google.colab = scope.google.colab || {};\n",
              "scope.google.colab._files = {\n",
              "  _uploadFiles,\n",
              "  _uploadFilesContinue,\n",
              "};\n",
              "})(self);\n",
              "</script> "
            ]
          },
          "metadata": {}
        },
        {
          "output_type": "stream",
          "name": "stdout",
          "text": [
            "Saving Pride and Prejudice.txt to Pride and Prejudice (1).txt\n"
          ]
        }
      ]
    },
    {
      "cell_type": "code",
      "source": [
        "#Open and pre-process the data\n",
        "\n",
        "file = open(\"Pride and Prejudice.txt\", \"r\", encoding = \"utf8\")\n",
        "\n",
        "# store file in list\n",
        "lines = []\n",
        "for i in file:\n",
        "    lines.append(i)\n",
        "\n",
        "# Convert list to string\n",
        "data = \"\"\n",
        "for i in lines:\n",
        "  data = ' '. join(lines) \n",
        "\n",
        "#replace unnecessary stuff with space\n",
        "data = data.replace('\\n', '').replace('\\r', '').replace('\\ufeff', '').replace('“','').replace('”','')  #new line, carriage return, unicode character --> replace by space\n",
        "\n",
        "#remove unnecessary spaces \n",
        "data = data.split()\n",
        "data = ' '.join(data)\n",
        "data[:500]"
      ],
      "metadata": {
        "colab": {
          "base_uri": "https://localhost:8080/",
          "height": 88
        },
        "id": "mS_CwJ9jdsRv",
        "outputId": "4cdbd867-62d0-4359-a199-0b9357e03938"
      },
      "execution_count": null,
      "outputs": [
        {
          "output_type": "execute_result",
          "data": {
            "text/plain": [
              "'The Project Gutenberg eBook of Pride and prejudice, by Jane Austen This eBook is for the use of anyone anywhere in the United States and most other parts of the world at no cost and with almost no restrictions whatsoever. You may copy it, give it away or re-use it under the terms of the Project Gutenberg License included with this eBook or online at www.gutenberg.org. If you are not located in the United States, you will have to check the laws of the country where you are located before using th'"
            ],
            "application/vnd.google.colaboratory.intrinsic+json": {
              "type": "string"
            }
          },
          "metadata": {},
          "execution_count": 7
        }
      ]
    },
    {
      "cell_type": "code",
      "source": [
        "len(data)\n"
      ],
      "metadata": {
        "colab": {
          "base_uri": "https://localhost:8080/"
        },
        "id": "0ve0tTAOdse3",
        "outputId": "c32cb7eb-8e2f-4eb5-f0c6-509f82f8b621"
      },
      "execution_count": null,
      "outputs": [
        {
          "output_type": "execute_result",
          "data": {
            "text/plain": [
              "733811"
            ]
          },
          "metadata": {},
          "execution_count": 8
        }
      ]
    },
    {
      "cell_type": "code",
      "source": [
        "#Apply tokenization\n",
        "tokenizer = Tokenizer()\n",
        "tokenizer.fit_on_texts([data])\n",
        "\n",
        "# saving the tokenizer for predict function\n",
        "pickle.dump(tokenizer, open('token.pkl', 'wb'))\n",
        "\n",
        "sequence_data = tokenizer.texts_to_sequences([data])[0]\n",
        "sequence_data[:15]"
      ],
      "metadata": {
        "colab": {
          "base_uri": "https://localhost:8080/"
        },
        "id": "moIZKHqsdsiX",
        "outputId": "ce52f673-c1f9-434c-9d48-1fa5aef7dee5"
      },
      "execution_count": null,
      "outputs": [
        {
          "output_type": "execute_result",
          "data": {
            "text/plain": [
              "[1, 182, 164, 1001, 3, 299, 4, 946, 30, 72, 710, 41, 1001, 23, 21]"
            ]
          },
          "metadata": {},
          "execution_count": 9
        }
      ]
    },
    {
      "cell_type": "code",
      "source": [
        "len(sequence_data)\n"
      ],
      "metadata": {
        "colab": {
          "base_uri": "https://localhost:8080/"
        },
        "id": "-CYRaGOReGym",
        "outputId": "7d851fc4-2b11-494d-ae9e-a4571505576e"
      },
      "execution_count": null,
      "outputs": [
        {
          "output_type": "execute_result",
          "data": {
            "text/plain": [
              "131231"
            ]
          },
          "metadata": {},
          "execution_count": 10
        }
      ]
    },
    {
      "cell_type": "code",
      "source": [
        "vocab_size = len(tokenizer.word_index) + 1\n",
        "print(vocab_size)"
      ],
      "metadata": {
        "colab": {
          "base_uri": "https://localhost:8080/"
        },
        "id": "B1bxbAkyeG9c",
        "outputId": "cca9f7f8-d38f-435c-940a-9a4562f53614"
      },
      "execution_count": null,
      "outputs": [
        {
          "output_type": "stream",
          "name": "stdout",
          "text": [
            "7248\n"
          ]
        }
      ]
    },
    {
      "cell_type": "code",
      "source": [
        "sequences = []\n",
        "\n",
        "for i in range(3, len(sequence_data)):\n",
        "    words = sequence_data[i-3:i+1]\n",
        "    sequences.append(words)\n",
        "    \n",
        "print(\"The Length of sequences are: \", len(sequences))\n",
        "sequences = np.array(sequences)\n",
        "sequences[:10]"
      ],
      "metadata": {
        "colab": {
          "base_uri": "https://localhost:8080/"
        },
        "id": "5p7FQVCEeHBk",
        "outputId": "f7aea383-9ada-44fa-bb52-ca207e43ad31"
      },
      "execution_count": null,
      "outputs": [
        {
          "output_type": "stream",
          "name": "stdout",
          "text": [
            "The Length of sequences are:  131228\n"
          ]
        },
        {
          "output_type": "execute_result",
          "data": {
            "text/plain": [
              "array([[   1,  182,  164, 1001],\n",
              "       [ 182,  164, 1001,    3],\n",
              "       [ 164, 1001,    3,  299],\n",
              "       [1001,    3,  299,    4],\n",
              "       [   3,  299,    4,  946],\n",
              "       [ 299,    4,  946,   30],\n",
              "       [   4,  946,   30,   72],\n",
              "       [ 946,   30,   72,  710],\n",
              "       [  30,   72,  710,   41],\n",
              "       [  72,  710,   41, 1001]])"
            ]
          },
          "metadata": {},
          "execution_count": 12
        }
      ]
    },
    {
      "cell_type": "code",
      "source": [
        "X = []\n",
        "y = []\n",
        "\n",
        "for i in sequences:\n",
        "    X.append(i[0:3])\n",
        "    y.append(i[3])\n",
        "    \n",
        "X = np.array(X)\n",
        "y = np.array(y)"
      ],
      "metadata": {
        "id": "M-X7cNpxeHEU"
      },
      "execution_count": null,
      "outputs": []
    },
    {
      "cell_type": "code",
      "source": [
        "print(\"Data: \", X[:10])\n",
        "print(\"Response: \", y[:10])"
      ],
      "metadata": {
        "colab": {
          "base_uri": "https://localhost:8080/"
        },
        "id": "y1dX8xIWeHHW",
        "outputId": "2de88fc4-cb79-475e-a403-0eb5f6c41667"
      },
      "execution_count": null,
      "outputs": [
        {
          "output_type": "stream",
          "name": "stdout",
          "text": [
            "Data:  [[   1  182  164]\n",
            " [ 182  164 1001]\n",
            " [ 164 1001    3]\n",
            " [1001    3  299]\n",
            " [   3  299    4]\n",
            " [ 299    4  946]\n",
            " [   4  946   30]\n",
            " [ 946   30   72]\n",
            " [  30   72  710]\n",
            " [  72  710   41]]\n",
            "Response:  [1001    3  299    4  946   30   72  710   41 1001]\n"
          ]
        }
      ]
    },
    {
      "cell_type": "code",
      "source": [
        "y = to_categorical(y, num_classes=vocab_size)\n",
        "y[:5]"
      ],
      "metadata": {
        "colab": {
          "base_uri": "https://localhost:8080/"
        },
        "id": "iUnySMBTeHJ8",
        "outputId": "1d007b9b-52b2-4f42-9b28-e7a391a6d357"
      },
      "execution_count": null,
      "outputs": [
        {
          "output_type": "execute_result",
          "data": {
            "text/plain": [
              "array([[0., 0., 0., ..., 0., 0., 0.],\n",
              "       [0., 0., 0., ..., 0., 0., 0.],\n",
              "       [0., 0., 0., ..., 0., 0., 0.],\n",
              "       [0., 0., 0., ..., 0., 0., 0.],\n",
              "       [0., 0., 0., ..., 0., 0., 0.]], dtype=float32)"
            ]
          },
          "metadata": {},
          "execution_count": 15
        }
      ]
    },
    {
      "cell_type": "code",
      "source": [
        "#Creating the model\n",
        "\n",
        "model = Sequential()\n",
        "model.add(Embedding(vocab_size, 10, input_length=3))\n",
        "model.add(LSTM(1000, return_sequences=True))\n",
        "model.add(LSTM(1000))\n",
        "model.add(Dense(1000, activation=\"relu\"))\n",
        "model.add(Dense(vocab_size, activation=\"softmax\"))"
      ],
      "metadata": {
        "id": "VlbhOOL_eHM0"
      },
      "execution_count": null,
      "outputs": []
    },
    {
      "cell_type": "code",
      "source": [
        "model.summary()"
      ],
      "metadata": {
        "colab": {
          "base_uri": "https://localhost:8080/"
        },
        "id": "ehvGMlbXeHPU",
        "outputId": "c5a9ce2f-ecb4-45b5-c6d7-3758614afaf1"
      },
      "execution_count": null,
      "outputs": [
        {
          "output_type": "stream",
          "name": "stdout",
          "text": [
            "Model: \"sequential\"\n",
            "_________________________________________________________________\n",
            " Layer (type)                Output Shape              Param #   \n",
            "=================================================================\n",
            " embedding (Embedding)       (None, 3, 10)             72480     \n",
            "                                                                 \n",
            " lstm (LSTM)                 (None, 3, 1000)           4044000   \n",
            "                                                                 \n",
            " lstm_1 (LSTM)               (None, 1000)              8004000   \n",
            "                                                                 \n",
            " dense (Dense)               (None, 1000)              1001000   \n",
            "                                                                 \n",
            " dense_1 (Dense)             (None, 7248)              7255248   \n",
            "                                                                 \n",
            "=================================================================\n",
            "Total params: 20,376,728\n",
            "Trainable params: 20,376,728\n",
            "Non-trainable params: 0\n",
            "_________________________________________________________________\n"
          ]
        }
      ]
    },
    {
      "cell_type": "code",
      "source": [
        "#Plot the model\n",
        "\n",
        "from tensorflow import keras\n",
        "from keras.utils.vis_utils import plot_model\n",
        "\n",
        "keras.utils.plot_model(model, to_file='plot.png', show_layer_names=True)"
      ],
      "metadata": {
        "colab": {
          "base_uri": "https://localhost:8080/",
          "height": 564
        },
        "id": "Ty3czmY4eHa1",
        "outputId": "33868f0f-fad6-4ca2-9857-e9b4ff25f65f"
      },
      "execution_count": null,
      "outputs": [
        {
          "output_type": "execute_result",
          "data": {
            "image/png": "[encoded data removed]",
            "text/plain": [
              "<IPython.core.display.Image object>"
            ]
          },
          "metadata": {},
          "execution_count": 18
        }
      ]
    },
    {
      "cell_type": "code",
      "source": [
        "#Train the model\n",
        "\n",
        "from tensorflow.keras.callbacks import ModelCheckpoint\n",
        "\n",
        "checkpoint = ModelCheckpoint(\"next_words.h5\", monitor='loss', verbose=1, save_best_only=True)\n",
        "model.compile(loss=\"categorical_crossentropy\", optimizer=Adam(learning_rate=0.001))\n",
        "model.fit(X, y, epochs=70, batch_size=64, callbacks=[checkpoint])"
      ],
      "metadata": {
        "colab": {
          "base_uri": "https://localhost:8080/"
        },
        "id": "hIwGPYm1eiHk",
        "outputId": "3d64ad5a-50d7-4ab6-ac57-a618b5b6a3ed"
      },
      "execution_count": null,
      "outputs": [
        {
          "output_type": "stream",
          "name": "stdout",
          "text": [
            "Epoch 1/70\n",
            "2050/2051 [============================>.] - ETA: 0s - loss: 6.2190\n",
            "Epoch 1: loss improved from inf to 6.21888, saving model to next_words.h5\n",
            "2051/2051 [==============================] - 38s 15ms/step - loss: 6.2189\n",
            "Epoch 2/70\n",
            "2051/2051 [==============================] - ETA: 0s - loss: 5.5933\n",
            "Epoch 2: loss improved from 6.21888 to 5.59325, saving model to next_words.h5\n",
            "2051/2051 [==============================] - 31s 15ms/step - loss: 5.5933\n",
            "Epoch 3/70\n",
            "2050/2051 [============================>.] - ETA: 0s - loss: 5.2637\n",
            "Epoch 3: loss improved from 5.59325 to 5.26370, saving model to next_words.h5\n",
            "2051/2051 [==============================] - 31s 15ms/step - loss: 5.2637\n",
            "Epoch 4/70\n",
            "2048/2051 [============================>.] - ETA: 0s - loss: 5.0252\n",
            "Epoch 4: loss improved from 5.26370 to 5.02508, saving model to next_words.h5\n",
            "2051/2051 [==============================] - 32s 16ms/step - loss: 5.0251\n",
            "Epoch 5/70\n",
            "2051/2051 [==============================] - ETA: 0s - loss: 4.8140\n",
            "Epoch 5: loss improved from 5.02508 to 4.81395, saving model to next_words.h5\n",
            "2051/2051 [==============================] - 32s 15ms/step - loss: 4.8140\n",
            "Epoch 6/70\n",
            "2051/2051 [==============================] - ETA: 0s - loss: 4.6043\n",
            "Epoch 6: loss improved from 4.81395 to 4.60433, saving model to next_words.h5\n",
            "2051/2051 [==============================] - 31s 15ms/step - loss: 4.6043\n",
            "Epoch 7/70\n",
            "2051/2051 [==============================] - ETA: 0s - loss: 4.3903\n",
            "Epoch 7: loss improved from 4.60433 to 4.39032, saving model to next_words.h5\n",
            "2051/2051 [==============================] - 31s 15ms/step - loss: 4.3903\n",
            "Epoch 8/70\n",
            "2050/2051 [============================>.] - ETA: 0s - loss: 4.1737\n",
            "Epoch 8: loss improved from 4.39032 to 4.17369, saving model to next_words.h5\n",
            "2051/2051 [==============================] - 31s 15ms/step - loss: 4.1737\n",
            "Epoch 9/70\n",
            "2048/2051 [============================>.] - ETA: 0s - loss: 3.9479\n",
            "Epoch 9: loss improved from 4.17369 to 3.94789, saving model to next_words.h5\n",
            "2051/2051 [==============================] - 31s 15ms/step - loss: 3.9479\n",
            "Epoch 10/70\n",
            "2048/2051 [============================>.] - ETA: 0s - loss: 3.7231\n",
            "Epoch 10: loss improved from 3.94789 to 3.72295, saving model to next_words.h5\n",
            "2051/2051 [==============================] - 31s 15ms/step - loss: 3.7229\n",
            "Epoch 11/70\n",
            "2049/2051 [============================>.] - ETA: 0s - loss: 3.5002\n",
            "Epoch 11: loss improved from 3.72295 to 3.50038, saving model to next_words.h5\n",
            "2051/2051 [==============================] - 31s 15ms/step - loss: 3.5004\n",
            "Epoch 12/70\n",
            "2049/2051 [============================>.] - ETA: 0s - loss: 3.2790\n",
            "Epoch 12: loss improved from 3.50038 to 3.27948, saving model to next_words.h5\n",
            "2051/2051 [==============================] - 31s 15ms/step - loss: 3.2795\n",
            "Epoch 13/70\n",
            "2049/2051 [============================>.] - ETA: 0s - loss: 3.0596\n",
            "Epoch 13: loss improved from 3.27948 to 3.05925, saving model to next_words.h5\n",
            "2051/2051 [==============================] - 32s 15ms/step - loss: 3.0592\n",
            "Epoch 14/70\n",
            "2050/2051 [============================>.] - ETA: 0s - loss: 2.8375\n",
            "Epoch 14: loss improved from 3.05925 to 2.83746, saving model to next_words.h5\n",
            "2051/2051 [==============================] - 31s 15ms/step - loss: 2.8375\n",
            "Epoch 15/70\n",
            "2048/2051 [============================>.] - ETA: 0s - loss: 2.6040\n",
            "Epoch 15: loss improved from 2.83746 to 2.60412, saving model to next_words.h5\n",
            "2051/2051 [==============================] - 31s 15ms/step - loss: 2.6041\n",
            "Epoch 16/70\n",
            "2049/2051 [============================>.] - ETA: 0s - loss: 2.3737\n",
            "Epoch 16: loss improved from 2.60412 to 2.37382, saving model to next_words.h5\n",
            "2051/2051 [==============================] - 31s 15ms/step - loss: 2.3738\n",
            "Epoch 17/70\n",
            "2051/2051 [==============================] - ETA: 0s - loss: 2.1470\n",
            "Epoch 17: loss improved from 2.37382 to 2.14697, saving model to next_words.h5\n",
            "2051/2051 [==============================] - 31s 15ms/step - loss: 2.1470\n",
            "Epoch 18/70\n",
            "2050/2051 [============================>.] - ETA: 0s - loss: 1.9299\n",
            "Epoch 18: loss improved from 2.14697 to 1.92982, saving model to next_words.h5\n",
            "2051/2051 [==============================] - 31s 15ms/step - loss: 1.9298\n",
            "Epoch 19/70\n",
            "2050/2051 [============================>.] - ETA: 0s - loss: 1.7321\n",
            "Epoch 19: loss improved from 1.92982 to 1.73231, saving model to next_words.h5\n",
            "2051/2051 [==============================] - 31s 15ms/step - loss: 1.7323\n",
            "Epoch 20/70\n",
            "2051/2051 [==============================] - ETA: 0s - loss: 1.5498\n",
            "Epoch 20: loss improved from 1.73231 to 1.54982, saving model to next_words.h5\n",
            "2051/2051 [==============================] - 31s 15ms/step - loss: 1.5498\n",
            "Epoch 21/70\n",
            "2051/2051 [==============================] - ETA: 0s - loss: 1.3914\n",
            "Epoch 21: loss improved from 1.54982 to 1.39138, saving model to next_words.h5\n",
            "2051/2051 [==============================] - 31s 15ms/step - loss: 1.3914\n",
            "Epoch 22/70\n",
            "2049/2051 [============================>.] - ETA: 0s - loss: 1.2584\n",
            "Epoch 22: loss improved from 1.39138 to 1.25851, saving model to next_words.h5\n",
            "2051/2051 [==============================] - 31s 15ms/step - loss: 1.2585\n",
            "Epoch 23/70\n",
            "2049/2051 [============================>.] - ETA: 0s - loss: 1.1446\n",
            "Epoch 23: loss improved from 1.25851 to 1.14471, saving model to next_words.h5\n",
            "2051/2051 [==============================] - 31s 15ms/step - loss: 1.1447\n",
            "Epoch 24/70\n",
            "2051/2051 [==============================] - ETA: 0s - loss: 1.0557\n",
            "Epoch 24: loss improved from 1.14471 to 1.05573, saving model to next_words.h5\n",
            "2051/2051 [==============================] - 31s 15ms/step - loss: 1.0557\n",
            "Epoch 25/70\n",
            "2051/2051 [==============================] - ETA: 0s - loss: 0.9741\n",
            "Epoch 25: loss improved from 1.05573 to 0.97414, saving model to next_words.h5\n",
            "2051/2051 [==============================] - 31s 15ms/step - loss: 0.9741\n",
            "Epoch 26/70\n",
            "2048/2051 [============================>.] - ETA: 0s - loss: 0.9131\n",
            "Epoch 26: loss improved from 0.97414 to 0.91339, saving model to next_words.h5\n",
            "2051/2051 [==============================] - 31s 15ms/step - loss: 0.9134\n",
            "Epoch 27/70\n",
            "2050/2051 [============================>.] - ETA: 0s - loss: 0.8646\n",
            "Epoch 27: loss improved from 0.91339 to 0.86473, saving model to next_words.h5\n",
            "2051/2051 [==============================] - 31s 15ms/step - loss: 0.8647\n",
            "Epoch 28/70\n",
            "2048/2051 [============================>.] - ETA: 0s - loss: 0.8214\n",
            "Epoch 28: loss improved from 0.86473 to 0.82162, saving model to next_words.h5\n",
            "2051/2051 [==============================] - 31s 15ms/step - loss: 0.8216\n",
            "Epoch 29/70\n",
            "2049/2051 [============================>.] - ETA: 0s - loss: 0.7869\n",
            "Epoch 29: loss improved from 0.82162 to 0.78691, saving model to next_words.h5\n",
            "2051/2051 [==============================] - 31s 15ms/step - loss: 0.7869\n",
            "Epoch 30/70\n",
            "2048/2051 [============================>.] - ETA: 0s - loss: 0.7566\n",
            "Epoch 30: loss improved from 0.78691 to 0.75697, saving model to next_words.h5\n",
            "2051/2051 [==============================] - 31s 15ms/step - loss: 0.7570\n",
            "Epoch 31/70\n",
            "2048/2051 [============================>.] - ETA: 0s - loss: 0.7294\n",
            "Epoch 31: loss improved from 0.75697 to 0.72941, saving model to next_words.h5\n",
            "2051/2051 [==============================] - 31s 15ms/step - loss: 0.7294\n",
            "Epoch 32/70\n",
            "2050/2051 [============================>.] - ETA: 0s - loss: 0.7063\n",
            "Epoch 32: loss improved from 0.72941 to 0.70643, saving model to next_words.h5\n",
            "2051/2051 [==============================] - 31s 15ms/step - loss: 0.7064\n",
            "Epoch 33/70\n",
            "2049/2051 [============================>.] - ETA: 0s - loss: 0.6891\n",
            "Epoch 33: loss improved from 0.70643 to 0.68897, saving model to next_words.h5\n",
            "2051/2051 [==============================] - 31s 15ms/step - loss: 0.6890\n",
            "Epoch 34/70\n",
            "2048/2051 [============================>.] - ETA: 0s - loss: 0.6701\n",
            "Epoch 34: loss improved from 0.68897 to 0.67029, saving model to next_words.h5\n",
            "2051/2051 [==============================] - 31s 15ms/step - loss: 0.6703\n",
            "Epoch 35/70\n",
            "2050/2051 [============================>.] - ETA: 0s - loss: 0.6575\n",
            "Epoch 35: loss improved from 0.67029 to 0.65752, saving model to next_words.h5\n",
            "2051/2051 [==============================] - 31s 15ms/step - loss: 0.6575\n",
            "Epoch 36/70\n",
            "2048/2051 [============================>.] - ETA: 0s - loss: 0.6389\n",
            "Epoch 36: loss improved from 0.65752 to 0.63896, saving model to next_words.h5\n",
            "2051/2051 [==============================] - 31s 15ms/step - loss: 0.6390\n",
            "Epoch 37/70\n",
            "2048/2051 [============================>.] - ETA: 0s - loss: 0.6247\n",
            "Epoch 37: loss improved from 0.63896 to 0.62480, saving model to next_words.h5\n",
            "2051/2051 [==============================] - 31s 15ms/step - loss: 0.6248\n",
            "Epoch 38/70\n",
            "2050/2051 [============================>.] - ETA: 0s - loss: 0.6159\n",
            "Epoch 38: loss improved from 0.62480 to 0.61604, saving model to next_words.h5\n",
            "2051/2051 [==============================] - 31s 15ms/step - loss: 0.6160\n",
            "Epoch 39/70\n",
            "2051/2051 [==============================] - ETA: 0s - loss: 0.6054\n",
            "Epoch 39: loss improved from 0.61604 to 0.60537, saving model to next_words.h5\n",
            "2051/2051 [==============================] - 31s 15ms/step - loss: 0.6054\n",
            "Epoch 40/70\n",
            "2050/2051 [============================>.] - ETA: 0s - loss: 0.5924\n",
            "Epoch 40: loss improved from 0.60537 to 0.59244, saving model to next_words.h5\n",
            "2051/2051 [==============================] - 31s 15ms/step - loss: 0.5924\n",
            "Epoch 41/70\n",
            "2050/2051 [============================>.] - ETA: 0s - loss: 0.5837\n",
            "Epoch 41: loss improved from 0.59244 to 0.58370, saving model to next_words.h5\n",
            "2051/2051 [==============================] - 31s 15ms/step - loss: 0.5837\n",
            "Epoch 42/70\n",
            "2049/2051 [============================>.] - ETA: 0s - loss: 0.5746\n",
            "Epoch 42: loss improved from 0.58370 to 0.57465, saving model to next_words.h5\n",
            "2051/2051 [==============================] - 31s 15ms/step - loss: 0.5747\n",
            "Epoch 43/70\n",
            "2049/2051 [============================>.] - ETA: 0s - loss: 0.5661\n",
            "Epoch 43: loss improved from 0.57465 to 0.56613, saving model to next_words.h5\n",
            "2051/2051 [==============================] - 31s 15ms/step - loss: 0.5661\n",
            "Epoch 44/70\n",
            "2048/2051 [============================>.] - ETA: 0s - loss: 0.5606\n",
            "Epoch 44: loss improved from 0.56613 to 0.56070, saving model to next_words.h5\n",
            "2051/2051 [==============================] - 31s 15ms/step - loss: 0.5607\n",
            "Epoch 45/70\n",
            "2051/2051 [==============================] - ETA: 0s - loss: 0.5516\n",
            "Epoch 45: loss improved from 0.56070 to 0.55159, saving model to next_words.h5\n",
            "2051/2051 [==============================] - 31s 15ms/step - loss: 0.5516\n",
            "Epoch 46/70\n",
            "2048/2051 [============================>.] - ETA: 0s - loss: 0.5437\n",
            "Epoch 46: loss improved from 0.55159 to 0.54390, saving model to next_words.h5\n",
            "2051/2051 [==============================] - 31s 15ms/step - loss: 0.5439\n",
            "Epoch 47/70\n",
            "2049/2051 [============================>.] - ETA: 0s - loss: 0.5354\n",
            "Epoch 47: loss improved from 0.54390 to 0.53553, saving model to next_words.h5\n",
            "2051/2051 [==============================] - 31s 15ms/step - loss: 0.5355\n",
            "Epoch 48/70\n",
            "2050/2051 [============================>.] - ETA: 0s - loss: 0.5331\n",
            "Epoch 48: loss improved from 0.53553 to 0.53307, saving model to next_words.h5\n",
            "2051/2051 [==============================] - 31s 15ms/step - loss: 0.5331\n",
            "Epoch 49/70\n",
            "2048/2051 [============================>.] - ETA: 0s - loss: 0.5257\n",
            "Epoch 49: loss improved from 0.53307 to 0.52586, saving model to next_words.h5\n",
            "2051/2051 [==============================] - 32s 16ms/step - loss: 0.5259\n",
            "Epoch 50/70\n",
            "2048/2051 [============================>.] - ETA: 0s - loss: 0.5231\n",
            "Epoch 50: loss improved from 0.52586 to 0.52323, saving model to next_words.h5\n",
            "2051/2051 [==============================] - 32s 16ms/step - loss: 0.5232\n",
            "Epoch 51/70\n",
            "2049/2051 [============================>.] - ETA: 0s - loss: 0.5141\n",
            "Epoch 51: loss improved from 0.52323 to 0.51401, saving model to next_words.h5\n",
            "2051/2051 [==============================] - 32s 15ms/step - loss: 0.5140\n",
            "Epoch 52/70\n",
            "2051/2051 [==============================] - ETA: 0s - loss: 0.5113\n",
            "Epoch 52: loss improved from 0.51401 to 0.51126, saving model to next_words.h5\n",
            "2051/2051 [==============================] - 32s 15ms/step - loss: 0.5113\n",
            "Epoch 53/70\n",
            "2048/2051 [============================>.] - ETA: 0s - loss: 0.5074\n",
            "Epoch 53: loss improved from 0.51126 to 0.50749, saving model to next_words.h5\n",
            "2051/2051 [==============================] - 31s 15ms/step - loss: 0.5075\n",
            "Epoch 54/70\n",
            "2051/2051 [==============================] - ETA: 0s - loss: 0.5021\n",
            "Epoch 54: loss improved from 0.50749 to 0.50205, saving model to next_words.h5\n",
            "2051/2051 [==============================] - 32s 15ms/step - loss: 0.5021\n",
            "Epoch 55/70\n",
            "2049/2051 [============================>.] - ETA: 0s - loss: 0.4964\n",
            "Epoch 55: loss improved from 0.50205 to 0.49640, saving model to next_words.h5\n",
            "2051/2051 [==============================] - 31s 15ms/step - loss: 0.4964\n",
            "Epoch 56/70\n",
            "2049/2051 [============================>.] - ETA: 0s - loss: 0.4907\n",
            "Epoch 56: loss improved from 0.49640 to 0.49085, saving model to next_words.h5\n",
            "2051/2051 [==============================] - 31s 15ms/step - loss: 0.4909\n",
            "Epoch 57/70\n",
            "2048/2051 [============================>.] - ETA: 0s - loss: 0.4878\n",
            "Epoch 57: loss improved from 0.49085 to 0.48798, saving model to next_words.h5\n",
            "2051/2051 [==============================] - 31s 15ms/step - loss: 0.4880\n",
            "Epoch 58/70\n",
            "2049/2051 [============================>.] - ETA: 0s - loss: 0.4857\n",
            "Epoch 58: loss improved from 0.48798 to 0.48581, saving model to next_words.h5\n",
            "2051/2051 [==============================] - 31s 15ms/step - loss: 0.4858\n",
            "Epoch 59/70\n",
            "2051/2051 [==============================] - ETA: 0s - loss: 0.4805\n",
            "Epoch 59: loss improved from 0.48581 to 0.48049, saving model to next_words.h5\n",
            "2051/2051 [==============================] - 31s 15ms/step - loss: 0.4805\n",
            "Epoch 60/70\n",
            "2048/2051 [============================>.] - ETA: 0s - loss: 0.4764\n",
            "Epoch 60: loss improved from 0.48049 to 0.47655, saving model to next_words.h5\n",
            "2051/2051 [==============================] - 31s 15ms/step - loss: 0.4765\n",
            "Epoch 61/70\n",
            "2051/2051 [==============================] - ETA: 0s - loss: 0.4751\n",
            "Epoch 61: loss improved from 0.47655 to 0.47512, saving model to next_words.h5\n",
            "2051/2051 [==============================] - 32s 15ms/step - loss: 0.4751\n",
            "Epoch 62/70\n",
            "2049/2051 [============================>.] - ETA: 0s - loss: 0.4740\n",
            "Epoch 62: loss improved from 0.47512 to 0.47405, saving model to next_words.h5\n",
            "2051/2051 [==============================] - 32s 15ms/step - loss: 0.4741\n",
            "Epoch 63/70\n",
            "2050/2051 [============================>.] - ETA: 0s - loss: 0.4706\n",
            "Epoch 63: loss improved from 0.47405 to 0.47057, saving model to next_words.h5\n",
            "2051/2051 [==============================] - 32s 15ms/step - loss: 0.4706\n",
            "Epoch 64/70\n",
            "2050/2051 [============================>.] - ETA: 0s - loss: 0.4635\n",
            "Epoch 64: loss improved from 0.47057 to 0.46347, saving model to next_words.h5\n",
            "2051/2051 [==============================] - 31s 15ms/step - loss: 0.4635\n",
            "Epoch 65/70\n",
            "2048/2051 [============================>.] - ETA: 0s - loss: 0.4623\n",
            "Epoch 65: loss improved from 0.46347 to 0.46238, saving model to next_words.h5\n",
            "2051/2051 [==============================] - 31s 15ms/step - loss: 0.4624\n",
            "Epoch 66/70\n",
            "2050/2051 [============================>.] - ETA: 0s - loss: 0.4591\n",
            "Epoch 66: loss improved from 0.46238 to 0.45910, saving model to next_words.h5\n",
            "2051/2051 [==============================] - 31s 15ms/step - loss: 0.4591\n",
            "Epoch 67/70\n",
            "2051/2051 [==============================] - ETA: 0s - loss: 0.4569\n",
            "Epoch 67: loss improved from 0.45910 to 0.45685, saving model to next_words.h5\n",
            "2051/2051 [==============================] - 31s 15ms/step - loss: 0.4569\n",
            "Epoch 68/70\n",
            "2050/2051 [============================>.] - ETA: 0s - loss: 0.4589\n",
            "Epoch 68: loss did not improve from 0.45685\n",
            "2051/2051 [==============================] - 30s 15ms/step - loss: 0.4589\n",
            "Epoch 69/70\n",
            "2051/2051 [==============================] - ETA: 0s - loss: 0.4512\n",
            "Epoch 69: loss improved from 0.45685 to 0.45125, saving model to next_words.h5\n",
            "2051/2051 [==============================] - 31s 15ms/step - loss: 0.4512\n",
            "Epoch 70/70\n",
            "2051/2051 [==============================] - ETA: 0s - loss: 0.4490\n",
            "Epoch 70: loss improved from 0.45125 to 0.44900, saving model to next_words.h5\n",
            "2051/2051 [==============================] - 32s 15ms/step - loss: 0.4490\n"
          ]
        },
        {
          "output_type": "execute_result",
          "data": {
            "text/plain": [
              "<keras.callbacks.History at 0x7fb1ef26c450>"
            ]
          },
          "metadata": {},
          "execution_count": 19
        }
      ]
    },
    {
      "cell_type": "code",
      "source": [
        "#predictions:\n",
        "\n",
        "from tensorflow.keras.models import load_model\n",
        "import numpy as np\n",
        "import pickle\n",
        "\n",
        "# Load the model and tokenizer\n",
        "model = load_model('next_words.h5')\n",
        "tokenizer = pickle.load(open('token.pkl', 'rb'))\n",
        "\n",
        "def Predict_Next_Words(model, tokenizer, text):\n",
        "\n",
        "  sequence = tokenizer.texts_to_sequences([text])\n",
        "  sequence = np.array(sequence)\n",
        "  preds = np.argmax(model.predict(sequence))\n",
        "  predicted_word = \"\"\n",
        "  \n",
        "  for key, value in tokenizer.word_index.items():\n",
        "      if value == preds:\n",
        "          predicted_word = key\n",
        "          break\n",
        "  \n",
        "  print(predicted_word)\n",
        "  return predicted_word"
      ],
      "metadata": {
        "id": "e0DSc5NOeiPl"
      },
      "execution_count": null,
      "outputs": []
    },
    {
      "cell_type": "code",
      "source": [
        "while(True):\n",
        "  text = input(\"Enter your line: \")\n",
        "  \n",
        "  if text == \"0\":\n",
        "      print(\"Execution completed.....\")\n",
        "      break\n",
        "  \n",
        "  else:\n",
        "      try:\n",
        "          text = text.split(\" \")\n",
        "          text = text[-3:]\n",
        "          print(text)\n",
        "        \n",
        "          Predict_Next_Words(model, tokenizer, text)\n",
        "          \n",
        "      except Exception as e:\n",
        "        print(\"Error occurred: \",e)\n",
        "        continue"
      ],
      "metadata": {
        "colab": {
          "base_uri": "https://localhost:8080/"
        },
        "id": "bS3xaWyqeiS8",
        "outputId": "d255ffdf-c5c9-4df6-9d2b-e9119b4fd9d1"
      },
      "execution_count": null,
      "outputs": [
        {
          "output_type": "stream",
          "name": "stdout",
          "text": [
            "Enter your line: somewhere about\n",
            "['somewhere', 'about']\n",
            "1/1 [==============================] - 0s 18ms/step\n",
            "her\n",
            "Enter your line: Walt Whitman\n",
            "['Walt', 'Whitman']\n",
            "1/1 [==============================] - 0s 18ms/step\n",
            "of\n",
            "Enter your line: though the thought will\n",
            "['the', 'thought', 'will']\n",
            "1/1 [==============================] - 0s 18ms/step\n",
            "doubtless\n",
            "Enter your line: 0\n",
            "Execution completed.....\n"
          ]
        }
      ]
    },
    {
      "cell_type": "code",
      "source": [],
      "metadata": {
        "id": "LNMc_8GJeiWE"
      },
      "execution_count": null,
      "outputs": []
    },
    {
      "cell_type": "code",
      "source": [],
      "metadata": {
        "id": "NOtqC4fNeiZC"
      },
      "execution_count": null,
      "outputs": []
    },
    {
      "cell_type": "code",
      "source": [],
      "metadata": {
        "id": "i6Nut9Areibc"
      },
      "execution_count": null,
      "outputs": []
    },
    {
      "cell_type": "code",
      "source": [],
      "metadata": {
        "id": "j3m6EdHKeigM"
      },
      "execution_count": null,
      "outputs": []
    }
  ]
}